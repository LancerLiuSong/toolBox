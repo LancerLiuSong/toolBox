{
 "cells": [
  {
   "cell_type": "markdown",
   "metadata": {},
   "source": [
    "# A Very General Introduction on Computer Vision and Machine Learning"
   ]
  },
  {
   "cell_type": "markdown",
   "metadata": {},
   "source": [
    "## Table of Content\n",
    "* Computer Vision\n",
    " * Reconstruction\n",
    " * Recognition\n",
    "* Machine Learning (Excluding Deep Learning)\n",
    " * Feature\n",
    " * Classifier\n",
    "* Deep Learning"
   ]
  },
  {
   "cell_type": "markdown",
   "metadata": {},
   "source": [
    "## Computer Vision\n",
    "### Reconstruction\n",
    "Perception\n",
    "Perceve the world, \n",
    "\n",
    "The very native and ... task for computer vision.\n",
    "![SfM](http://openmvg.readthedocs.org/en/latest/_images/structureFromMotion.png \"Structure from Motion\")\n",
    "![SfM](http://www.cs.cornell.edu/~snavely/bundler/images/Colosseum.jpg \"Structure from Motion\")\n",
    "\n",
    "\n",
    "### Recognition\n",
    "A higher level task ...\n",
    "classification\n",
    "detection\n",
    "segmentation\n",
    "tracking\n",
    "\n",
    "Logical\n",
    "\n",
    "\n",
    "most contemporary AI researchers agree that Logic-based AI is dead.\n",
    "\n",
    "\n",
    "Need "
   ]
  },
  {
   "cell_type": "markdown",
   "metadata": {},
   "source": [
    "## Machine Learning (Excluding Deep Learning)\n",
    "\n",
    "Relation between machine learning and deep learning.\n",
    "![](https://cdn-images-1.medium.com/max/1200/1*TiORvHgrJPme_lEiX3olVA.png)\n",
    "\n",
    "\n",
    "\n",
    "### Feature / Descriptor\n",
    "\n",
    "\n",
    "### Classifier\n",
    "\n",
    "SVM\n",
    "Random Forest\n",
    "Neural Networks\n",
    "\n",
    "\n",
    "### Supervised and Unsupervised Learning\n"
   ]
  },
  {
   "cell_type": "markdown",
   "metadata": {},
   "source": [
    "## Deep Learning (the hottest part now in ML)\n",
    "\n",
    "\n",
    "![](https://blog.purestorage.com/wp-content/uploads/2017/07/Screen-Shot-2017-07-20-at-11.11.37-AM.png)\n",
    "\n",
    "### Model\n",
    "\n",
    "nueron\n",
    "activate function\n",
    "sigmod\n",
    "tanh\n",
    "reLu\n",
    "maxout\n",
    "\n",
    "\n",
    "\n",
    "CNN\n",
    "Convlutional \n",
    "\n",
    "what is convolution\n",
    "\n",
    "convlution in math\n",
    "kernel/filter\n",
    "convlution as a matrix operation\n",
    "\n",
    "an example\n",
    "canny filter for edge\n",
    "\n",
    "\n",
    "How learn\n",
    "Back propgation\n",
    "Gradent decent\n",
    "\n",
    "how a NN warp and transform the feature space\n",
    "a neuron --- linear classifer\n",
    "\n",
    "\n",
    "\n",
    "[Neural nets can compute any function](http://neuralnetworksanddeeplearning.com/chap4.html)\n",
    "[]()\n",
    "[]()\n",
    "\n",
    "\n",
    "### Implementation / Coding\n",
    "\n",
    "[SVM OpenCV](https://docs.opencv.org/3.4/d1/d73/tutorial_introduction_to_svm.html) \n",
    "Random Forest OpenCV\n",
    "\n",
    "\n",
    "\n",
    "\n",
    "### Frameworks / Libraries\n",
    "\n",
    "![](https://agi.io/wp-content/uploads/2018/02/frameworks-new.png)\n",
    "\n",
    "\n",
    "Trend\n",
    "![](https://pbs.twimg.com/media/DX5I8r_VwAACbmo.jpg:large)\n",
    "\n",
    "Use Tensorflow + Keras\n",
    "\n",
    "bigger data + deeper model\n",
    "\n",
    "\n",
    "For data, how big is big enough?\n",
    "\n",
    "\n",
    "\n"
   ]
  },
  {
   "cell_type": "markdown",
   "metadata": {},
   "source": [
    "![](http://wordpress.viu.ca/ciel/files/2013/01/134992626.jpg)"
   ]
  },
  {
   "cell_type": "markdown",
   "metadata": {},
   "source": [
    "## Reference\n",
    "\n"
   ]
  }
 ],
 "metadata": {
  "kernelspec": {
   "display_name": "Python 3",
   "language": "python",
   "name": "python3"
  },
  "language_info": {
   "codemirror_mode": {
    "name": "ipython",
    "version": 3
   },
   "file_extension": ".py",
   "mimetype": "text/x-python",
   "name": "python",
   "nbconvert_exporter": "python",
   "pygments_lexer": "ipython3",
   "version": "3.6.6"
  }
 },
 "nbformat": 4,
 "nbformat_minor": 2
}
