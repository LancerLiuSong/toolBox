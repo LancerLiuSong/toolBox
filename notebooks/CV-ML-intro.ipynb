{
 "cells": [
  {
   "cell_type": "markdown",
   "metadata": {},
   "source": [
    "# A Very General Introduction on Computer Vision and Machine Learning"
   ]
  },
  {
   "cell_type": "markdown",
   "metadata": {},
   "source": [
    "## Table of Content\n",
    "* Computer Vision\n",
    " * Reconstruction\n",
    " * Recognition\n",
    "* Machine Learning (Excluding Deep Learning)\n",
    " * Feature\n",
    " * Classifier\n",
    "* Deep Learning"
   ]
  },
  {
   "cell_type": "markdown",
   "metadata": {},
   "source": [
    "## Computer Vision\n",
    "### Reconstruction\n",
    "The very native and ... task for computer vision.\n",
    "![SfM](http://openmvg.readthedocs.org/en/latest/_images/structureFromMotion.png \"Structure from Motion\")\n",
    "![SfM](http://www.cs.cornell.edu/~snavely/bundler/images/Colosseum.jpg \"Structure from Motion\")\n",
    "\n",
    "\n",
    "\n",
    "### Recognition\n",
    "A higher level task ...\n",
    "classification\n",
    "detection\n",
    "segmentation\n",
    "tracking"
   ]
  },
  {
   "cell_type": "markdown",
   "metadata": {},
   "source": [
    "## Machine Learning for CV (Excluding Deep Learning)\n",
    "\n",
    "Relation between machine learning and deep learning.\n",
    "![](https://cdn-images-1.medium.com/max/1200/1*TiORvHgrJPme_lEiX3olVA.png)\n",
    "\n",
    "### Feature\n",
    "\n",
    "### Classifier\n"
   ]
  },
  {
   "cell_type": "markdown",
   "metadata": {},
   "source": [
    "## Deep Learning for CV\n",
    "\n",
    "![](http://3.bp.blogspot.com/-zQlQvmK9U9g/VT_Hk6yKlmI/AAAAAAAAODQ/nNNcpVM4UPM/s1600/bg_pipeline-01.png)\n",
    "\n",
    "\n",
    "\n",
    "\n",
    "\n"
   ]
  },
  {
   "cell_type": "markdown",
   "metadata": {},
   "source": [
    "![](http://wordpress.viu.ca/ciel/files/2013/01/134992626.jpg)"
   ]
  }
 ],
 "metadata": {
  "kernelspec": {
   "display_name": "Python 3",
   "language": "python",
   "name": "python3"
  },
  "language_info": {
   "codemirror_mode": {
    "name": "ipython",
    "version": 3
   },
   "file_extension": ".py",
   "mimetype": "text/x-python",
   "name": "python",
   "nbconvert_exporter": "python",
   "pygments_lexer": "ipython3",
   "version": "3.6.4"
  }
 },
 "nbformat": 4,
 "nbformat_minor": 2
}
