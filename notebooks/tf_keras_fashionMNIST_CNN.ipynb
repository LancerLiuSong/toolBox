{
 "cells": [
  {
   "cell_type": "markdown",
   "metadata": {},
   "source": [
    "# Fashion MNIST CNN"
   ]
  },
  {
   "cell_type": "code",
   "execution_count": 1,
   "metadata": {},
   "outputs": [],
   "source": [
    "import os\n",
    "import numpy as np\n",
    "import matplotlib.pyplot as plt\n",
    "import tensorflow as tf\n",
    "import tensorflow.keras as keras\n",
    "from tensorflow.keras.callbacks import TensorBoard, ModelCheckpoint"
   ]
  },
  {
   "cell_type": "code",
   "execution_count": 2,
   "metadata": {},
   "outputs": [],
   "source": [
    "fashion_mnist = tf.keras.datasets.fashion_mnist\n",
    "(x_train, y_train), (x_test, y_test) = fashion_mnist.load_data()"
   ]
  },
  {
   "cell_type": "code",
   "execution_count": 3,
   "metadata": {},
   "outputs": [
    {
     "name": "stdout",
     "output_type": "stream",
     "text": [
      "(60000, 28, 28)\n",
      "(60000,)\n"
     ]
    }
   ],
   "source": [
    "print(x_train.shape)\n",
    "print(y_train.shape)"
   ]
  },
  {
   "cell_type": "code",
   "execution_count": 4,
   "metadata": {},
   "outputs": [],
   "source": [
    "class_names = ['T-shirt/top', 'Trouser', 'Pullover', 'Dress', 'Coat', \n",
    "               'Sandal', 'Shirt', 'Sneaker', 'Bag', 'Ankle boot']"
   ]
  },
  {
   "cell_type": "code",
   "execution_count": 5,
   "metadata": {},
   "outputs": [],
   "source": [
    "x_train = x_train / 255.0\n",
    "x_test = x_test / 255.0"
   ]
  },
  {
   "cell_type": "code",
   "execution_count": 6,
   "metadata": {},
   "outputs": [],
   "source": [
    "x_train = x_train.reshape(x_train.shape[0], 28, 28, 1)"
   ]
  },
  {
   "cell_type": "code",
   "execution_count": 7,
   "metadata": {},
   "outputs": [],
   "source": [
    "# CNN\n",
    "model = keras.Sequential([\n",
    "    keras.layers.Conv2D(filters=32, kernel_size=(3, 3), strides=(1, 1), padding='valid', activation='relu', input_shape=(28,28,1)),\n",
    "    keras.layers.MaxPooling2D(pool_size=(2, 2)),\n",
    "    keras.layers.Dropout(rate=0.25),\n",
    "    keras.layers.Flatten(),\n",
    "    keras.layers.Dense(128, activation=tf.nn.relu),\n",
    "    #keras.layers.Dense(128, activation=tf.nn.relu),\n",
    "    keras.layers.Dropout(rate=0.25),\n",
    "    keras.layers.Dense(10, activation=tf.nn.softmax)\n",
    "])"
   ]
  },
  {
   "cell_type": "code",
   "execution_count": 8,
   "metadata": {},
   "outputs": [],
   "source": [
    "model.compile(optimizer=tf.train.AdamOptimizer(), \n",
    "              loss='sparse_categorical_crossentropy',\n",
    "              metrics=['accuracy'])"
   ]
  },
  {
   "cell_type": "code",
   "execution_count": 9,
   "metadata": {},
   "outputs": [
    {
     "name": "stdout",
     "output_type": "stream",
     "text": [
      "Train on 42000 samples, validate on 18000 samples\n",
      "Epoch 1/10\n",
      "42000/42000 [==============================] - 28s 668us/step - loss: 0.4716 - acc: 0.8322 - val_loss: 0.3287 - val_acc: 0.8796\n",
      "\n",
      "Epoch 00001: saving model to FM_ckp/FMcp.ckpt\n",
      "Epoch 2/10\n",
      "42000/42000 [==============================] - 29s 679us/step - loss: 0.3221 - acc: 0.8838 - val_loss: 0.2806 - val_acc: 0.8986\n",
      "\n",
      "Epoch 00002: saving model to FM_ckp/FMcp.ckpt\n",
      "Epoch 3/10\n",
      "42000/42000 [==============================] - 27s 645us/step - loss: 0.2814 - acc: 0.8967 - val_loss: 0.2666 - val_acc: 0.9041\n",
      "\n",
      "Epoch 00003: saving model to FM_ckp/FMcp.ckpt\n",
      "Epoch 4/10\n",
      "42000/42000 [==============================] - 27s 641us/step - loss: 0.2546 - acc: 0.9060 - val_loss: 0.2692 - val_acc: 0.9007\n",
      "\n",
      "Epoch 00004: saving model to FM_ckp/FMcp.ckpt\n",
      "Epoch 5/10\n",
      "42000/42000 [==============================] - 27s 648us/step - loss: 0.2364 - acc: 0.9127 - val_loss: 0.2435 - val_acc: 0.9106\n",
      "\n",
      "Epoch 00005: saving model to FM_ckp/FMcp.ckpt\n",
      "Epoch 6/10\n",
      "42000/42000 [==============================] - 28s 657us/step - loss: 0.2168 - acc: 0.9187 - val_loss: 0.2443 - val_acc: 0.9130\n",
      "\n",
      "Epoch 00006: saving model to FM_ckp/FMcp.ckpt\n",
      "Epoch 7/10\n",
      "42000/42000 [==============================] - 29s 679us/step - loss: 0.1980 - acc: 0.9264 - val_loss: 0.2573 - val_acc: 0.9095\n",
      "\n",
      "Epoch 00007: saving model to FM_ckp/FMcp.ckpt\n",
      "Epoch 8/10\n",
      "42000/42000 [==============================] - 28s 659us/step - loss: 0.1861 - acc: 0.9312 - val_loss: 0.2432 - val_acc: 0.9152\n",
      "\n",
      "Epoch 00008: saving model to FM_ckp/FMcp.ckpt\n",
      "Epoch 9/10\n",
      "42000/42000 [==============================] - 28s 662us/step - loss: 0.1751 - acc: 0.9339 - val_loss: 0.2426 - val_acc: 0.9177\n",
      "\n",
      "Epoch 00009: saving model to FM_ckp/FMcp.ckpt\n",
      "Epoch 10/10\n",
      "42000/42000 [==============================] - 28s 661us/step - loss: 0.1645 - acc: 0.9377 - val_loss: 0.2467 - val_acc: 0.9149\n",
      "\n",
      "Epoch 00010: saving model to FM_ckp/FMcp.ckpt\n"
     ]
    },
    {
     "data": {
      "text/plain": [
       "<tensorflow.python.keras.callbacks.History at 0x7f4e498d8240>"
      ]
     },
     "execution_count": 9,
     "metadata": {},
     "output_type": "execute_result"
    }
   ],
   "source": [
    "# Create tensorboard callback\n",
    "NAME = \"FM_CNN\"\n",
    "tensorBoard = TensorBoard(log_dir=\"FM_logs/{}\".format(NAME))\n",
    "\n",
    "# Create checkpoint callback\n",
    "checkpoint_path = \"FM_ckp/FMcp.ckpt\"\n",
    "checkpoint_dir = os.path.dirname(checkpoint_path)\n",
    "checkPoint = ModelCheckpoint(checkpoint_path, save_weights_only=True, verbose=1)\n",
    "\n",
    "model.fit(x_train, y_train, epochs=10, validation_split=0.3, callbacks=[tensorBoard, checkPoint])"
   ]
  },
  {
   "cell_type": "code",
   "execution_count": 10,
   "metadata": {},
   "outputs": [
    {
     "name": "stdout",
     "output_type": "stream",
     "text": [
      "10000/10000 [==============================] - 1s 136us/step\n",
      "Test accuracy: 0.911\n"
     ]
    }
   ],
   "source": [
    "x_test = x_test.reshape(x_test.shape[0], 28, 28, 1)\n",
    "test_loss, test_acc = model.evaluate(x_test, y_test)\n",
    "print('Test accuracy:', test_acc)"
   ]
  },
  {
   "cell_type": "code",
   "execution_count": null,
   "metadata": {},
   "outputs": [],
   "source": []
  }
 ],
 "metadata": {
  "kernelspec": {
   "display_name": "Python 3",
   "language": "python",
   "name": "python3"
  },
  "language_info": {
   "codemirror_mode": {
    "name": "ipython",
    "version": 3
   },
   "file_extension": ".py",
   "mimetype": "text/x-python",
   "name": "python",
   "nbconvert_exporter": "python",
   "pygments_lexer": "ipython3",
   "version": "3.6.6"
  }
 },
 "nbformat": 4,
 "nbformat_minor": 2
}
